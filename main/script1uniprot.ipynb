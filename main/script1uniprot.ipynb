{
 "cells": [
  {
   "cell_type": "code",
   "execution_count": null,
   "metadata": {},
   "outputs": [],
   "source": [
    "import pandas as pd\n",
    "import os\n",
    "import numpy as np\n",
    "from joblib import Parallel, delayed\n",
    "from functools import reduce\n",
    "import math as mt\n",
    "import seaborn as sns\n",
    "import matplotlib.pyplot as plt\n",
    "%matplotlib inline"
   ]
  },
  {
   "cell_type": "code",
   "execution_count": null,
   "metadata": {},
   "outputs": [],
   "source": [
    "colname=['qseqid','sseqid','pident','length','mismatch','gapopen','qstart','qend','sstart','send','evalue','bitscore'] "
   ]
  },
  {
   "cell_type": "code",
   "execution_count": null,
   "metadata": {},
   "outputs": [],
   "source": [
    "codephage=pd.read_csv('codephagefuncuniprot.csv')\n",
    "codephage=codephage.sort_values('phage')\n",
    "codephage['protindex']=codephage.groupby('phage').cumcount()+1"
   ]
  },
  {
   "cell_type": "code",
   "execution_count": null,
   "metadata": {},
   "outputs": [],
   "source": [
    "dicto={}\n",
    "for index,rows in codephage.iterrows():\n",
    "    dicto[rows['code']]=rows['phage']\n",
    "dicto2={}\n",
    "for index,rows in codephage.iterrows():\n",
    "    dicto2[rows['code']]=rows['protindex']"
   ]
  },
  {
   "cell_type": "code",
   "execution_count": null,
   "metadata": {},
   "outputs": [],
   "source": [
    "phagenum=pd.read_csv('phagenumprotuniprotpandas.csv')\n",
    "phagenum.columns=['scode','numprot','host']\n",
    "phagenum2=phagenum[['scode','numprot']]"
   ]
  },
  {
   "cell_type": "code",
   "execution_count": null,
   "metadata": {},
   "outputs": [],
   "source": [
    "for i in range(0,5):\n",
    "    alpha=round(0.5+i*0.1,1)\n",
    "    total={}\n",
    "    for i in os.listdir():\n",
    "        if i[0:5]=='bestm':\n",
    "            recop={}\n",
    "            a=pd.read_table(i, header=None)  #open results file\n",
    "            a.columns=colname  ##assign columns\n",
    "            #b=a.groupby('qseqid').head(1)  #top1\n",
    "            b['scode']=b['sseqid'].apply(lambda x: dicto[x])\n",
    "            b['numprot']=b['sseqid'].apply(lambda x: dicto2[x])\n",
    "            c=b[['scode','numprot']].sort_values(['scode','numprot']) #works with hits only\n",
    "            d=c.groupby(['scode','numprot']).size() #count reads by protein\n",
    "            #counting packs\n",
    "            for codigos in pd.unique(d.index.get_level_values(0)):\n",
    "                recop[codigos]=0\n",
    "                tmp=d[codigos].values\n",
    "                while sum(tmp)!=0:\n",
    "                    valores=np.heaviside(tmp,0)\n",
    "                    if sum(valores)>=phagenum.loc[phagenum['scode']==codigos,'numprot'].values[0]*alpha:\n",
    "                        recop[codigos]+=1\n",
    "                    else:\n",
    "                        break\n",
    "                    tmp=tmp-1\n",
    "                    tmp[tmp<0]=0\n",
    "                    print(tmp)\n",
    "            total[i[4:]]=recop\n",
    "    #joint counts\n",
    "    q=reduce(lambda x,y:pd.merge(x,y,how='outer',on='phage') ,[pd.DataFrame({'phage':list(y.keys()),x:list(y.values())}) for x,y in total.items()])\n",
    "    qt=q.fillna(0).set_index('phage')\n",
    "    qt2=qt.loc[:,qt.sum(axis=0)>0]\n",
    "    up=qt2.loc[qt2.sum(axis=1)!=0]\n",
    "    #up.to_csv(\"matrixphagesalpha\"+str(alpha)+\"newmethodmarineuniprot.csv\") \n",
    "    xy=up.astype(bool).sum(axis=1)\n",
    "    xy2=xy[xy!=0]\n",
    "    xy3=pd.DataFrame({'prev':xy2}).reset_index()\n",
    "    i=up.sum(axis=1).sort_values(ascending=False)\n",
    "    i2=i[i!=0]\n",
    "    i3=pd.DataFrame({'detec':i2}).reset_index()\n",
    "    u=pd.merge(xy3,i3,how='outer',on='phage').sort_values('detec',ascending=False)\n",
    "    #u.to_csv(\"phagesalpha\"+str(alpha)+\"newmethodmarineuniprot.csv\",index=False)"
   ]
  }
 ],
 "metadata": {
  "kernelspec": {
   "display_name": "Python 3",
   "language": "python",
   "name": "python3"
  },
  "language_info": {
   "codemirror_mode": {
    "name": "ipython",
    "version": 3
   },
   "file_extension": ".py",
   "mimetype": "text/x-python",
   "name": "python",
   "nbconvert_exporter": "python",
   "pygments_lexer": "ipython3",
   "version": "3.6.3"
  }
 },
 "nbformat": 4,
 "nbformat_minor": 2
}
