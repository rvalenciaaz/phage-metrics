{
 "cells": [
  {
   "cell_type": "code",
   "execution_count": null,
   "metadata": {},
   "outputs": [],
   "source": [
    "import pandas as pd\n",
    "import os\n",
    "import numpy as np\n",
    "from joblib import Parallel, delayed\n",
    "from functools import reduce\n",
    "import math as mt\n",
    "import seaborn as sns\n",
    "import matplotlib.pyplot as plt\n",
    "%matplotlib inline"
   ]
  },
  {
   "cell_type": "code",
   "execution_count": null,
   "metadata": {},
   "outputs": [],
   "source": [
    "colname=['qseqid','sseqid','pident','length','mismatch','gapopen','qstart','qend','sstart','send','evalue','bitscore']"
   ]
  },
  {
   "cell_type": "code",
   "execution_count": null,
   "metadata": {},
   "outputs": [],
   "source": [
    "phagenum=pd.read_table('phagenumprot.txt', header=None, dtype={0:str, 1:str,2:int})\n",
    "phagenum.columns=['scode','name','numprot']"
   ]
  },
  {
   "cell_type": "code",
   "execution_count": null,
   "metadata": {},
   "outputs": [],
   "source": [
    "phagenum2=phagenum[['scode','name']]\n",
    "phagenum2.columns=['phage','name']"
   ]
  },
  {
   "cell_type": "code",
   "execution_count": null,
   "metadata": {},
   "outputs": [],
   "source": [
    "for i in range(0,4):\n",
    "    alpha=0.5+0.1*i\n",
    "    total={}\n",
    "    print(alpha)\n",
    "    for i in os.listdir():\n",
    "        if i[0:5]=='bestm':\n",
    "            recop={}\n",
    "            a=pd.read_table(i, header=None)  #abrir archivo de resultados\n",
    "            a.columns=colname  #asignar columnas tipo blast\n",
    "            b=a.groupby('qseqid').head(1)  #top1\n",
    "            b['scode']=a['sseqid'].apply(lambda x: x.split('.')[0][4:]+'.'+x.split('.')[1]) #transformar codigo\n",
    "            b['numprot']=a['sseqid'].apply(lambda x: x.split('.')[-1]) #numero de proteinas\n",
    "            c=b[['scode','numprot']].sort_values(['scode','numprot']) #solo hits\n",
    "            d=c.groupby(['scode','numprot']).size() #cuenta read por cada proteina\n",
    "            \n",
    "            for codigos in pd.unique(d.index.get_level_values(0)):\n",
    "                recop[codigos]=0\n",
    "                tmp=d[codigos].values\n",
    "                while sum(tmp)!=0:\n",
    "                    valores=np.heaviside(tmp,0)\n",
    "                    if sum(valores)>=phagenum.loc[phagenum['scode']==codigos,'numprot'].values[0]*alpha:\n",
    "                        recop[codigos]+=1\n",
    "                    else:\n",
    "                        break\n",
    "                    tmp=tmp-1\n",
    "                    tmp[tmp<0]=0\n",
    "            total[i[4:]]=recop\n",
    "    q=reduce(lambda x,y:pd.merge(x,y,how='outer',on='phage') ,[pd.DataFrame({'phage':list(y.keys()),x:list(y.values())}) for x,y in total.items()])\n",
    "    qt=q.fillna(0).set_index('phage')\n",
    "    qt2=qt.loc[:,qt.sum(axis=0)>0]\n",
    "    gt=pd.merge(qt2.reset_index(),phagenum2,how='left',on='phage')\n",
    "    gt2=gt.drop('phage',axis=1).set_index('name')\n",
    "    up=gt2.loc[gt2.sum(axis=1)!=0]\n",
    "    #up.to_csv(\"matrixphagesalpha\"+str(alpha)+\"newmethodestuarinephantome.csv\")\n",
    "    xy=gt2.astype(bool).sum(axis=1)\n",
    "    xy2=xy[xy!=0]\n",
    "    xy3=pd.DataFrame({'prev':xy2}).reset_index()\n",
    "    i=gt2.sum(axis=1).sort_values(ascending=False)\n",
    "    i2=i[i!=0]\n",
    "    i3=pd.DataFrame({'detec':i2}).reset_index()\n",
    "    u=pd.merge(xy3,i3,how='outer',on='name').sort_values('detec',ascending=False)\n",
    "    #u.to_csv(\"phagesalpha\"+str(alpha)+\"newmethodestuarinephantome.csv\",index=False)"
   ]
  }
 ],
 "metadata": {
  "kernelspec": {
   "display_name": "Python 3",
   "language": "python",
   "name": "python3"
  },
  "language_info": {
   "codemirror_mode": {
    "name": "ipython",
    "version": 3
   },
   "file_extension": ".py",
   "mimetype": "text/x-python",
   "name": "python",
   "nbconvert_exporter": "python",
   "pygments_lexer": "ipython3",
   "version": "3.6.3"
  }
 },
 "nbformat": 4,
 "nbformat_minor": 2
}
