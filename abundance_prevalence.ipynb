{
 "cells": [
  {
   "cell_type": "code",
   "execution_count": null,
   "metadata": {},
   "outputs": [],
   "source": [
    "import pandas as pd\n",
    "import seaborn as sns\n",
    "import matplotlib.pyplot as plt\n",
    "import math as mt\n",
    "from functools import reduce\n",
    "import numpy as np\n",
    "%matplotlib inline"
   ]
  },
  {
   "cell_type": "code",
   "execution_count": null,
   "metadata": {},
   "outputs": [],
   "source": [
    "def sacarinfo(name):    \n",
    "    gt2=pd.read_csv(name)\n",
    "    gt2.set_index('met',inplace=True)\n",
    "    gtt=gt2.transpose()\n",
    "    xy=gtt.astype(bool).sum(axis=1)\n",
    "    xy2=xy[xy!=0]\n",
    "    xy3=pd.DataFrame({'prev':xy2}).reset_index()\n",
    "    #xy3['index']=gt2.index\n",
    "    i=gtt.sum(axis=1)/140\n",
    "    i2=i[i!=0]\n",
    "    i3=pd.DataFrame({'detec':i2}).reset_index()\n",
    "    u=pd.merge(xy3,i3,how='outer',on='index').sort_values('detec',ascending=False)\n",
    "    return(u)"
   ]
  },
  {
   "cell_type": "code",
   "execution_count": null,
   "metadata": {},
   "outputs": [],
   "source": [
    "tables=[sacarinfo('matrixnormmetalpha0.5newmethod'+i+'.csv') for i in ['marinephantome','estuarinephantome','freshwaterphantome']]\n",
    "for tab,tic in zip(tables,['Marine/Phantome','Estuarine/Phantome','Freshwater/Phantome']):\n",
    "    tab['Biome']=tic\n",
    "ye=reduce(lambda x,y: pd.concat([x,y]),tables)"
   ]
  },
  {
   "cell_type": "code",
   "execution_count": null,
   "metadata": {},
   "outputs": [],
   "source": [
    "ax=sns.relplot(x='prev',y='detec',data=ye,hue='Biome')\n",
    "ax.set(yscale='log')\n",
    "ax.set(ylim=(5e-7,1e-1))\n",
    "ax.set(xlabel='Prevalence',ylabel='Mean abundance')\n",
    "fig = plt.gcf()\n",
    "fig.set_size_inches(10, 8,forward=True)\n",
    "plt.show()"
   ]
  }
 ],
 "metadata": {
  "kernelspec": {
   "display_name": "Python 3",
   "language": "python",
   "name": "python3"
  },
  "language_info": {
   "codemirror_mode": {
    "name": "ipython",
    "version": 3
   },
   "file_extension": ".py",
   "mimetype": "text/x-python",
   "name": "python",
   "nbconvert_exporter": "python",
   "pygments_lexer": "ipython3",
   "version": "3.6.3"
  }
 },
 "nbformat": 4,
 "nbformat_minor": 2
}
